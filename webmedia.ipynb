{
 "cells": [
  {
   "cell_type": "code",
   "execution_count": null,
   "id": "8e6e3dd8",
   "metadata": {
    "tags": []
   },
   "outputs": [],
   "source": [
    "import numpy as np\n",
    "import pandas as pd\n",
    "import seaborn as sns\n",
    "import matplotlib.pyplot as plt\n",
    "import re\n",
    "import string\n",
    "\n",
    "import tweepy\n",
    "from nltk.sentiment.vader import SentimentIntensityAnalyzer"
   ]
  },
  {
   "cell_type": "markdown",
   "id": "d5487ead-39ca-4091-ac9a-d8c8993b5a98",
   "metadata": {},
   "source": [
    "# Base de dados"
   ]
  },
  {
   "cell_type": "markdown",
   "id": "9e58ccab-eb51-4e21-83ad-d4aa2b2c2a9a",
   "metadata": {},
   "source": [
    "## Tweepy"
   ]
  },
  {
   "cell_type": "code",
   "execution_count": null,
   "id": "f60b7508-3d77-4e3c-adcd-c23373f6b3ab",
   "metadata": {},
   "outputs": [],
   "source": [
    "# Carregar client com Token cadastrada em https://developer.twitter.com\n",
    "Bearer_Token = \"Insira seu Token aqui\"\n",
    "client = tweepy.Client(Bearer_Token)\n",
    "# query sobre o medicamento hidroxicloroquina\n",
    "query = \"hydroxychloroquine chloroquine HCQ -is:retweet\"\n",
    "# Busca os tweets dos ultimos 7 dias\n",
    "tweets = client.search_recent_tweets(query=query, tweet_fields=['created_at'], max_results=100)\n",
    "# transforma em dataframe\n",
    "df = pd.DataFrame(tweets.data).set_index('id'),\n",
    "df.to_csv('COVID-CQ.csv') # armazeno em disco"
   ]
  },
  {
   "cell_type": "markdown",
   "id": "ac416bc1-859b-487e-92e8-dbb9a9e1ea89",
   "metadata": {},
   "source": [
    "## Base de dados anotada manualmente [Mutlu 2020]"
   ]
  },
  {
   "cell_type": "code",
   "execution_count": null,
   "id": "f05e8b18-98a7-4bbc-b1bc-e912f814e170",
   "metadata": {
    "tags": []
   },
   "outputs": [],
   "source": [
    "\"Downloads dos textos dos tweets\"\n",
    "\"codigo faz download dos textos dos tweets e armazena em disco\"\n",
    "\"base de dados em: https://github.com/eceveco/COVID-CQ/blob/master/COVID-CQ.csv\"\n",
    "\n",
    "# carregando ids do csv\n",
    "df_stances = pd.read_csv('COVID-CQ.csv', names=['id', 'stance'], index_col='id')\n",
    "ids = list(df_stances.index)\n",
    "# quebrando o vetor de ids em consultas de tamanho 100.\n",
    "chunks = [ids[x:x+100] for x in range(0, len(ids), 100)]\n",
    "\n",
    "# faco as querys para cada chunk de ids\n",
    "output = []\n",
    "for query in chunks:\n",
    "    tweets = client.get_tweets(query)\n",
    "    for tweet in tweets.data:\n",
    "        output.append({'id'            : tweet.id,\n",
    "                       'text'          : tweet.text})\n",
    "df_texts = pd.DataFrame(output)\n",
    "df_texts.to_csv('COVID-CQ-texts.csv') #armazeno em disco"
   ]
  },
  {
   "cell_type": "code",
   "execution_count": null,
   "id": "b40f058f-936e-4bcb-ad0d-364ace9372ec",
   "metadata": {},
   "outputs": [],
   "source": [
    "# leitura dos tweets (textos e stance)\n",
    "df_stances = pd.read_csv('COVID-CQ.csv', names=['id', 'stance'], index_col= 'id')\n",
    "df_texts   = pd.read_csv('COVID-CQ-texts.csv', index_col='id')\n",
    "df         = pd.DataFrame({'text': df_texts['text'], 'stance': df_stances['stance']}) # dataframe unico\n",
    "df         = df.dropna()                                                              # removo tweets sem texto"
   ]
  },
  {
   "cell_type": "markdown",
   "id": "319a3c49-5e24-4aed-8725-6e70f9881808",
   "metadata": {},
   "source": [
    "# Viés dos tweets"
   ]
  },
  {
   "cell_type": "markdown",
   "id": "212d92ad-f66c-469a-a333-b4854b14f2e2",
   "metadata": {
    "tags": []
   },
   "source": [
    "## Análise de Sentimentos (Vader)\n",
    "<https://www.nltk.org/_modules/nltk/sentiment/vader.html>"
   ]
  },
  {
   "cell_type": "code",
   "execution_count": null,
   "id": "ed7ec593-c809-4311-8248-4dff3c36dc1c",
   "metadata": {},
   "outputs": [],
   "source": [
    "# aplicacao do vader nos tweets\n",
    "sid = SentimentIntensityAnalyzer()\n",
    "scores = df['text'].apply( lambda text : sid.polarity_scores(text) )\n",
    "df['compound'] = scores.apply( lambda score_dict : score_dict['compound'] ) # esse é o valor que importa"
   ]
  },
  {
   "cell_type": "markdown",
   "id": "b2260dfe-f5a5-4169-b137-68d68643b49c",
   "metadata": {},
   "source": [
    "## Viés anotado manualmente [Mutlu 2020]"
   ]
  },
  {
   "cell_type": "code",
   "execution_count": null,
   "id": "e1c5af51-7d8a-4695-9e1d-153faf5470e2",
   "metadata": {},
   "outputs": [],
   "source": [
    "# mudar stance de 0, 1, 2 para -1, 0, +1\n",
    "df['stance'] = df['stance'].replace(1,-1)\n",
    "df['stance'] = df['stance'].replace(2,1)'"
   ]
  },
  {
   "cell_type": "markdown",
   "id": "405c319d-66b9-4a65-bd97-8e1446992823",
   "metadata": {
    "tags": []
   },
   "source": [
    "# Polarização do grupo"
   ]
  },
  {
   "cell_type": "code",
   "execution_count": null,
   "id": "961aaae6-d299-4e20-859e-ad2a2bcc3c61",
   "metadata": {
    "tags": []
   },
   "outputs": [],
   "source": [
    "# Separacao entre tweets positivos e negativos.\n",
    "g  = df['compound']\n",
    "gn = df[df['compound'] <= -0.05]['compound']\n",
    "gp = df[df['compound'] >=  0.05]['compound']"
   ]
  },
  {
   "cell_type": "code",
   "execution_count": null,
   "id": "d2b362c2-c9c7-4974-bf6c-cfd53e9451ec",
   "metadata": {
    "tags": []
   },
   "outputs": [],
   "source": [
    "# Calculos intermediarios\n",
    "A   = g.count()       # num de tweets totais\n",
    "An  = gn.count()/A    # populacao de tweets negativos\n",
    "Ap  = gp.count()/A    # populacao de tweets positivos\n",
    "A0  = A - An - Ap     # populacao de tweets neutros\n",
    "Sn  = abs(gn.sum())   # soma dos valores de sentimento negativo\n",
    "Sp  = gp.sum()        # soma dos valores de sentimento positivo\n",
    "gcp = gp.mean()       # centroide dos tweets positivos\n",
    "gcn = gn.mean()       # centroide dos tweets negativos\n",
    "\n",
    "# Metricas de [Al-Ayyoub 2018]\n",
    "PN    = Ap / An                   # metrica PN\n",
    "RPN   = min(An, Ap) / max(An, Ap) # metrica RPN\n",
    "NPN   = A0 / (An + Ap)            # metrica NPN\n",
    "PNT   = (Ap + An) / A             # metrica PNT\n",
    "PNPNT = PN * PNT                  # metrica PNPNT\n",
    "RPNV  = min(Sn, Sp) / max(Sn, Sp) # metrica RPNV\n",
    "\n",
    "# Metrica de [Morales 2015]\n",
    "dA = abs(Ap - An) / A # diferenca do tamanho das populacoes\n",
    "d  = (gcp - gcn) /2   # distancia entre centroides\n",
    "m  = (1 - dA) * d     # metrica do dipolo eletrico"
   ]
  },
  {
   "cell_type": "code",
   "execution_count": null,
   "id": "78a82d0e-7b34-4f0b-9e8c-f09a0329dc3b",
   "metadata": {},
   "outputs": [],
   "source": [
    "# Para utilizar os dados anotados manualmente [Mutlu 2020]\n",
    "g  = df['stance']\n",
    "gn = df[df['stance'] < 0]['stance']\n",
    "gp = df[df['stance'] >  0]['stance']"
   ]
  },
  {
   "cell_type": "markdown",
   "id": "f9f968d6-c2b6-4a1d-834c-3e6f1cf36fb4",
   "metadata": {
    "tags": []
   },
   "source": [
    "# Análise da polarização"
   ]
  },
  {
   "cell_type": "code",
   "execution_count": null,
   "id": "703f799c-1956-48e7-8e34-a16239963760",
   "metadata": {
    "tags": []
   },
   "outputs": [],
   "source": [
    "f, (ax_box, ax_hist) = plt.subplots(2,sharex=True, gridspec_kw={\"height_ratios\": (.15, .85)})\n",
    "\n",
    "sns.boxplot(x=gn, ax=ax_box)\n",
    "sns.boxplot(x=gp, ax=ax_box)\n",
    "sns.boxplot(x=g0, ax=ax_box)\n",
    "sns.histplot(g, ax=ax_hist, bins=11)"
   ]
  },
  {
   "cell_type": "code",
   "execution_count": null,
   "id": "4cee727e-9810-47d2-85f0-ae8206217186",
   "metadata": {
    "tags": []
   },
   "outputs": [],
   "source": [
    "print('PN:    ', PN)\n",
    "print('RPN:   ', RPN)\n",
    "print('NPN:   ', NPN)\n",
    "print('PNT:   ', PNT)\n",
    "print('PNPNT: ', PNPNT)\n",
    "print('RPNV:  ', RPNV)\n",
    "print('M:     ', m)"
   ]
  }
 ],
 "metadata": {
  "kernelspec": {
   "display_name": "Python 3 (ipykernel)",
   "language": "python",
   "name": "python3"
  },
  "language_info": {
   "codemirror_mode": {
    "name": "ipython",
    "version": 3
   },
   "file_extension": ".py",
   "mimetype": "text/x-python",
   "name": "python",
   "nbconvert_exporter": "python",
   "pygments_lexer": "ipython3",
   "version": "3.9.12"
  },
  "toc-autonumbering": true,
  "toc-showcode": false,
  "toc-showtags": false
 },
 "nbformat": 4,
 "nbformat_minor": 5
}
